{
 "cells": [
  {
   "cell_type": "markdown",
   "id": "441a2b68",
   "metadata": {},
   "source": [
    "## 1)"
   ]
  },
  {
   "cell_type": "markdown",
   "id": "7e731bce",
   "metadata": {},
   "source": [
    "1-1"
   ]
  },
  {
   "cell_type": "code",
   "execution_count": 1,
   "id": "da1770d5",
   "metadata": {
    "collapsed": true
   },
   "outputs": [
    {
     "name": "stdout",
     "output_type": "stream",
     "text": [
      "0.011371489482366437\n",
      "0.03107022951428451\n",
      "0.036578995527092206\n",
      "0.04746081903586419\n",
      "0.04853693031426132\n",
      "0.0706809841039503\n",
      "0.08018926209477495\n",
      "0.08559055040399055\n",
      "0.09038831213660392\n",
      "0.10179213440398827\n",
      "0.11092483211716109\n",
      "0.11797729804196933\n",
      "0.12080054172791044\n",
      "0.15992000028000686\n",
      "0.172430589834485\n",
      "0.17262885438935782\n",
      "0.17527365776298043\n",
      "0.17560985122415818\n",
      "0.17834739067195582\n",
      "0.21114321086352006\n",
      "0.22254292073191484\n",
      "0.23618672021994036\n",
      "0.25206078003627275\n",
      "0.25850811028416754\n",
      "0.2695585356482427\n",
      "0.275522046747244\n",
      "0.2814619059976433\n",
      "0.2838830481858887\n",
      "0.29278739832882184\n",
      "0.29384042825200574\n",
      "0.30046604210461636\n",
      "0.30192178786703217\n",
      "0.3235609333069187\n",
      "0.33039661731510195\n",
      "0.33057004763152964\n",
      "0.33917429072088257\n",
      "0.3465734954580115\n",
      "0.35144336214761274\n",
      "0.42214831837575606\n",
      "0.43488436227051974\n",
      "0.4420945575726807\n",
      "0.44992672916657883\n",
      "0.45887799347978075\n",
      "0.46744438659744125\n",
      "0.4704558542713255\n",
      "0.48226738854628637\n",
      "0.48239898895897537\n",
      "0.498206250482652\n",
      "0.5097581382419566\n",
      "0.5184703464361728\n",
      "0.5268707470048306\n",
      "0.5293827381709119\n",
      "0.5422496871150277\n",
      "0.5577903106366657\n",
      "0.564109324350805\n",
      "0.583930726944329\n",
      "0.6072073473359001\n",
      "0.6260012558684602\n",
      "0.6311391873243074\n",
      "0.6323367055724933\n",
      "0.6629409148934219\n",
      "0.6686491888362383\n",
      "0.6742193969769298\n",
      "0.6753669692222216\n",
      "0.67614823849577\n",
      "0.6809570927166116\n",
      "0.6864189322982017\n",
      "0.6886367552184666\n",
      "0.7189977199865719\n",
      "0.749597519680679\n",
      "0.7506742093900812\n",
      "0.7587748485787346\n",
      "0.7659739533061243\n",
      "0.7738623477285516\n",
      "0.7800546251411298\n",
      "0.7887991461930302\n",
      "0.7978304740539687\n",
      "0.8055383334706449\n",
      "0.8075822289180496\n",
      "0.8090132019694125\n",
      "0.8103738065832632\n",
      "0.8153860859765235\n",
      "0.820825737983076\n",
      "0.8232057174568496\n",
      "0.836897309918425\n",
      "0.8374028150306602\n",
      "0.8420848012822479\n",
      "0.8560256982097728\n",
      "0.8661840323855929\n",
      "0.8856005872483256\n",
      "0.912216935317438\n",
      "0.915933743082326\n",
      "0.9235155512505298\n",
      "0.9272166468415431\n",
      "0.9497562785504228\n",
      "0.9514565823639267\n",
      "0.9629048396317982\n",
      "0.9721618162695996\n",
      "0.9823232836122628\n",
      "0.9908074434989721\n"
     ]
    }
   ],
   "source": [
    "import random as rd\n",
    "\n",
    "number = [rd.random() for i in range(100)]\n",
    "sort_num = sorted(number)\n",
    "for i in sort_num:\n",
    "    print(i)"
   ]
  },
  {
   "cell_type": "markdown",
   "id": "e930162e",
   "metadata": {},
   "source": [
    "1-2"
   ]
  },
  {
   "cell_type": "code",
   "execution_count": 46,
   "id": "8588b79c",
   "metadata": {
    "ExecuteTime": {
     "end_time": "2023-07-17T04:07:42.416618Z",
     "start_time": "2023-07-17T04:07:42.409180Z"
    }
   },
   "outputs": [
    {
     "name": "stdout",
     "output_type": "stream",
     "text": [
      "[[4.522 5.426 7.209 3.141]\n",
      " [8.965 8.514 4.211 3.915]\n",
      " [0.087 1.156 6.991 7.144]\n",
      " [0.405 4.292 0.704 1.155]]\n",
      "===========================\n",
      "[[7.694 2.542 4.356 2.161]\n",
      " [7.074 2.751 2.777 8.717]\n",
      " [5.961 8.213 6.418 4.097]\n",
      " [5.876 6.078 4.308 3.094]]\n",
      "===========================\n",
      "[[134.617 104.724  94.57   96.324]\n",
      " [177.314 104.587 106.585 122.952]\n",
      " [ 92.514 104.243  79.239  61.013]\n",
      " [ 44.466  25.642  23.18   44.747]]\n",
      "===========================\n",
      "[[-0.183  0.1    0.082  0.008]\n",
      " [-0.172  0.058  0.108  0.061]\n",
      " [ 0.372 -0.152 -0.191 -0.123]\n",
      " [ 0.088 -0.054 -0.044  0.043]]\n",
      "===== Identity Matrix =====\n",
      "[[ 1. -0.  0.  0.]\n",
      " [ 0.  1.  0.  0.]\n",
      " [-0. -0.  1.  0.]\n",
      " [ 0. -0.  0.  1.]]\n"
     ]
    }
   ],
   "source": [
    "import numpy as np\n",
    "\n",
    "A = np.random.rand(4,4)*10\n",
    "B = np.random.rand(4,4)*10\n",
    "C = np.zeros((4, 4))\n",
    "\n",
    "for i in range(4):\n",
    "    for j in range(4):\n",
    "        for k in range(4):\n",
    "            C[i,j] += A[i,k] * B[k,j]\n",
    "\n",
    "inv_C = np.zeros((4, 4))\n",
    "adj_C = np.zeros((4, 4))\n",
    "det_C = np.linalg.det(C)\n",
    "\n",
    "if det_C != 0:\n",
    "    for i in range(4):\n",
    "        for j in range(4):\n",
    "            adj_C[i,j] = (-1)**(i+j)\\\n",
    "            *np.linalg.det(np.delete(np.delete(C, i, axis=1), j, axis=0))\n",
    "\n",
    "    inv_C = adj_C / det_C\n",
    "\n",
    "ide_Mat = np.zeros((4, 4))\n",
    "\n",
    "for i in range(4):\n",
    "    for j in range(4):\n",
    "        for k in range(4):\n",
    "            ide_Mat[i,j] += C[i,k] * inv_C[k,j]\n",
    "\n",
    "np.set_printoptions(precision=3, suppress=True)\n",
    "print(A)\n",
    "print(\"===========================\")\n",
    "print(B)\n",
    "print(\"===========================\")\n",
    "print(C)\n",
    "print(\"===========================\")\n",
    "print(inv_C)\n",
    "print(\"===== Identity Matrix =====\")\n",
    "print(ide_Mat)"
   ]
  },
  {
   "cell_type": "markdown",
   "id": "a26f3b3e",
   "metadata": {},
   "source": [
    "## 2)"
   ]
  },
  {
   "cell_type": "markdown",
   "id": "7a35a12a",
   "metadata": {},
   "source": [
    "### 1. Bisection Method"
   ]
  },
  {
   "cell_type": "code",
   "execution_count": 48,
   "id": "effcbfd9",
   "metadata": {
    "ExecuteTime": {
     "end_time": "2023-07-18T07:07:58.485028Z",
     "start_time": "2023-07-18T07:07:58.479264Z"
    }
   },
   "outputs": [
    {
     "name": "stdout",
     "output_type": "stream",
     "text": [
      "첫 번째 근: -1.38750711\n",
      "두 번째 근: -0.51042934\n",
      "세 번째 근: 8.91069640\n",
      "41 38 41\n"
     ]
    }
   ],
   "source": [
    "def f(x):\n",
    "    return x**5 - 9*x**4 - x**3 + 17*x**2 - 8*x - 8\n",
    "\n",
    "def bisection_method(f, a, b, tol=5e-12, max_iter=50):\n",
    "    if f(a) * f(b) > 0:\n",
    "        print(\"근이 존재하지 않는 구간입니다.\")\n",
    "        return None\n",
    "\n",
    "    iter_count = 0\n",
    "    while abs(b - a) > tol and iter_count < max_iter:\n",
    "        c = (a + b) / 2\n",
    "\n",
    "        if f(c) == 0:\n",
    "            return c\n",
    "        \n",
    "        if f(a) * f(c) < 0:\n",
    "            b = c\n",
    "        else:\n",
    "            a = c\n",
    "        iter_count += 1\n",
    "\n",
    "    return (a + b) / 2, iter_count\n",
    "\n",
    "root1, count1 = bisection_method(f, -10, -1)\n",
    "root2, count2 = bisection_method(f, -1, 0)\n",
    "root3, count3 = bisection_method(f, 0, 10)\n",
    "\n",
    "print(\"첫 번째 근:\", format(root1, \".8f\"))\n",
    "print(\"두 번째 근:\", format(root2, \".8f\"))\n",
    "print(\"세 번째 근:\", format(root3, \".8f\"))\n",
    "\n",
    "print(count1, count2, count3)"
   ]
  },
  {
   "cell_type": "markdown",
   "id": "357a2164",
   "metadata": {},
   "source": [
    "### 2. Newton's Method"
   ]
  },
  {
   "cell_type": "code",
   "execution_count": 43,
   "id": "b60e3a21",
   "metadata": {
    "ExecuteTime": {
     "end_time": "2023-07-18T07:03:44.638840Z",
     "start_time": "2023-07-18T07:03:44.631615Z"
    }
   },
   "outputs": [
    {
     "name": "stdout",
     "output_type": "stream",
     "text": [
      "첫 번째 근: -1.38750711\n",
      "두 번째 근: -0.51042934\n",
      "세 번째 근: 8.91069640\n",
      "13 5 6\n"
     ]
    }
   ],
   "source": [
    "def f(x):\n",
    "    return x**5 - 9*x**4 - x**3 + 17*x**2 - 8*x - 8\n",
    "\n",
    "def dfdx(x):\n",
    "    return 5*x**4 - 36*x**3 - 3*x**2 + 34*x - 8\n",
    "\n",
    "def newton_method(f, p, tol=5e-12, max_iter=50):\n",
    "    \n",
    "    iter_count = 0\n",
    "    while abs(f(p)) > tol and iter_count < max_iter:\n",
    "        if dfdx(p) == 0:\n",
    "            break\n",
    "        \n",
    "        p_new = p - f(p)/dfdx(p)\n",
    "        p = p_new\n",
    "        iter_count += 1\n",
    "\n",
    "    return p, iter_count\n",
    "\n",
    "root1, count1 = newton_method(f, -10)\n",
    "root2, count2 = newton_method(f, -0.1)\n",
    "root3, count3 = newton_method(f, 10)\n",
    "\n",
    "print(\"첫 번째 근:\", format(root1, \".8f\"))\n",
    "print(\"두 번째 근:\", format(root2, \".8f\"))\n",
    "print(\"세 번째 근:\", format(root3, \".8f\"))\n",
    "\n",
    "print(count1, count2, count3)"
   ]
  },
  {
   "cell_type": "markdown",
   "id": "068fe619",
   "metadata": {},
   "source": [
    "### 3. Newton's Method (x=0)"
   ]
  },
  {
   "cell_type": "code",
   "execution_count": 32,
   "id": "d15bddbf",
   "metadata": {
    "ExecuteTime": {
     "end_time": "2023-07-18T06:58:33.114281Z",
     "start_time": "2023-07-18T06:58:33.107796Z"
    }
   },
   "outputs": [
    {
     "name": "stdout",
     "output_type": "stream",
     "text": [
      "초기조건을 0으로 하였을 때의 근: 1.00000000\n"
     ]
    }
   ],
   "source": [
    "def f(x):\n",
    "    return x**5 - 9*x**4 - x**3 + 17*x**2 - 8*x - 8\n",
    "\n",
    "def dfdx(x):\n",
    "    return 5*x**4 - 36*x**3 - 3*x**2 + 34*x - 8\n",
    "\n",
    "def newton_method(f, p, tol=1e-12, max_iter=50):\n",
    "\n",
    "    iter_count = 0\n",
    "    while abs(f(p)) > tol and iter_count < max_iter:\n",
    "        p_new = p - f(p)/dfdx(p)\n",
    "        p = p_new\n",
    "        \n",
    "        iter_count += 1\n",
    "        \n",
    "    return p\n",
    "\n",
    "root = newton_method(f, 0)\n",
    "\n",
    "print(\"초기조건을 0으로 하였을 때의 근:\", format(root, \".8f\"))"
   ]
  },
  {
   "cell_type": "markdown",
   "id": "dde6862d",
   "metadata": {},
   "source": [
    "### 4. Secant Method"
   ]
  },
  {
   "cell_type": "code",
   "execution_count": 45,
   "id": "9b26c34a",
   "metadata": {
    "ExecuteTime": {
     "end_time": "2023-07-18T07:03:51.957528Z",
     "start_time": "2023-07-18T07:03:51.948886Z"
    }
   },
   "outputs": [
    {
     "name": "stdout",
     "output_type": "stream",
     "text": [
      "첫 번째 근: -1.38750711\n",
      "두 번째 근: -0.51042934\n",
      "세 번째 근: 8.91069640\n",
      "18 6 8\n"
     ]
    }
   ],
   "source": [
    "def f(x):\n",
    "    return x**5 - 9*x**4 - x**3 + 17*x**2 - 8*x - 8\n",
    "\n",
    "def secant_method(f, p_old, p, tol=5e-12, max_iter=50):\n",
    "    \n",
    "    iter_count = 0\n",
    "    while abs(f(p)) > tol and iter_count < max_iter:\n",
    "        denominator = f(p) - f(p_old)\n",
    "        if denominator == 0:\n",
    "            break\n",
    "\n",
    "        p_new = p - f(p)*((p-p_old)/denominator)\n",
    "        p_old = p\n",
    "        p = p_new\n",
    "        iter_count += 1\n",
    "        \n",
    "    return p, iter_count\n",
    "\n",
    "root1, count1 = secant_method(f, -10, -9.9)\n",
    "root2, count2 = secant_method(f, -0.1, -0.2)\n",
    "root3, count3 = secant_method(f, 10, 9.9)\n",
    "\n",
    "print(\"첫 번째 근:\", format(root1, \".8f\"))\n",
    "print(\"두 번째 근:\", format(root2, \".8f\"))\n",
    "print(\"세 번째 근:\", format(root3, \".8f\"))\n",
    "\n",
    "print(count1, count2, count3)"
   ]
  }
 ],
 "metadata": {
  "hide_input": false,
  "kernelspec": {
   "display_name": "Python 3 (ipykernel)",
   "language": "python",
   "name": "python3"
  },
  "language_info": {
   "codemirror_mode": {
    "name": "ipython",
    "version": 3
   },
   "file_extension": ".py",
   "mimetype": "text/x-python",
   "name": "python",
   "nbconvert_exporter": "python",
   "pygments_lexer": "ipython3",
   "version": "3.11.4"
  },
  "toc": {
   "base_numbering": 1,
   "nav_menu": {},
   "number_sections": true,
   "sideBar": true,
   "skip_h1_title": false,
   "title_cell": "Table of Contents",
   "title_sidebar": "Contents",
   "toc_cell": false,
   "toc_position": {},
   "toc_section_display": true,
   "toc_window_display": false
  }
 },
 "nbformat": 4,
 "nbformat_minor": 5
}
